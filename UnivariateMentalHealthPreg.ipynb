{
 "cells": [
  {
   "cell_type": "code",
   "execution_count": 14,
   "id": "6963f8dc-e671-4124-a10d-181dca665188",
   "metadata": {},
   "outputs": [],
   "source": [
    "import pandas as pd\n",
    "import matplotlib.pyplot as plt\n",
    "import seaborn as sns"
   ]
  },
  {
   "cell_type": "code",
   "execution_count": 2,
   "id": "ed0ab49a-bbba-4476-a27b-100ef0f6f0eb",
   "metadata": {},
   "outputs": [],
   "source": [
    "df=pd.read_csv('Mental_Preg.csv')"
   ]
  },
  {
   "cell_type": "code",
   "execution_count": 5,
   "id": "ddcf10cb-fd82-47f8-81b5-e5bd0999090e",
   "metadata": {},
   "outputs": [
    {
     "data": {
      "text/plain": [
       "(10772, 16)"
      ]
     },
     "execution_count": 5,
     "metadata": {},
     "output_type": "execute_result"
    }
   ],
   "source": [
    "df.shape\n"
   ]
  },
  {
   "cell_type": "code",
   "execution_count": 6,
   "id": "d1d1bc56-602a-46d2-91f6-422904c26295",
   "metadata": {},
   "outputs": [
    {
     "data": {
      "text/html": [
       "<div>\n",
       "<style scoped>\n",
       "    .dataframe tbody tr th:only-of-type {\n",
       "        vertical-align: middle;\n",
       "    }\n",
       "\n",
       "    .dataframe tbody tr th {\n",
       "        vertical-align: top;\n",
       "    }\n",
       "\n",
       "    .dataframe thead th {\n",
       "        text-align: right;\n",
       "    }\n",
       "</style>\n",
       "<table border=\"1\" class=\"dataframe\">\n",
       "  <thead>\n",
       "    <tr style=\"text-align: right;\">\n",
       "      <th></th>\n",
       "      <th>OSF_ID</th>\n",
       "      <th>Maternal_Age</th>\n",
       "      <th>Household_Income</th>\n",
       "      <th>Maternal_Education</th>\n",
       "      <th>Edinburgh_Postnatal_Depression_Scale</th>\n",
       "      <th>PROMIS_Anxiety</th>\n",
       "      <th>Gestational_Age_At_Birth</th>\n",
       "      <th>Delivery_Date(converted to month and year)</th>\n",
       "      <th>Birth_Length</th>\n",
       "      <th>Birth_Weight</th>\n",
       "      <th>Delivery_Mode</th>\n",
       "      <th>NICU_Stay</th>\n",
       "      <th>Language</th>\n",
       "      <th>Threaten_Life</th>\n",
       "      <th>Threaten_Baby_Danger</th>\n",
       "      <th>Threaten_Baby_Harm</th>\n",
       "    </tr>\n",
       "  </thead>\n",
       "  <tbody>\n",
       "    <tr>\n",
       "      <th>7420</th>\n",
       "      <td>7421</td>\n",
       "      <td>31.5</td>\n",
       "      <td>$150,000 - $174,999</td>\n",
       "      <td>College/trade school</td>\n",
       "      <td>17.0</td>\n",
       "      <td>26.0</td>\n",
       "      <td>NaN</td>\n",
       "      <td>NaN</td>\n",
       "      <td>NaN</td>\n",
       "      <td>NaN</td>\n",
       "      <td>NaN</td>\n",
       "      <td>NaN</td>\n",
       "      <td>English</td>\n",
       "      <td>54</td>\n",
       "      <td>96</td>\n",
       "      <td>95</td>\n",
       "    </tr>\n",
       "    <tr>\n",
       "      <th>3233</th>\n",
       "      <td>3234</td>\n",
       "      <td>35.6</td>\n",
       "      <td>$200,000+</td>\n",
       "      <td>Undergraduate degree</td>\n",
       "      <td>10.0</td>\n",
       "      <td>19.0</td>\n",
       "      <td>34.00</td>\n",
       "      <td>Sep2020</td>\n",
       "      <td>48.00</td>\n",
       "      <td>2520.0</td>\n",
       "      <td>Vaginally</td>\n",
       "      <td>Yes</td>\n",
       "      <td>English</td>\n",
       "      <td>64</td>\n",
       "      <td>46</td>\n",
       "      <td>74</td>\n",
       "    </tr>\n",
       "    <tr>\n",
       "      <th>50</th>\n",
       "      <td>51</td>\n",
       "      <td>NaN</td>\n",
       "      <td>NaN</td>\n",
       "      <td>NaN</td>\n",
       "      <td>3.0</td>\n",
       "      <td>8.0</td>\n",
       "      <td>39.00</td>\n",
       "      <td>Sep2020</td>\n",
       "      <td>NaN</td>\n",
       "      <td>NaN</td>\n",
       "      <td>NaN</td>\n",
       "      <td>NaN</td>\n",
       "      <td>English</td>\n",
       "      <td>0</td>\n",
       "      <td>50</td>\n",
       "      <td>24</td>\n",
       "    </tr>\n",
       "    <tr>\n",
       "      <th>6734</th>\n",
       "      <td>6735</td>\n",
       "      <td>23.8</td>\n",
       "      <td>Less than $20, 000</td>\n",
       "      <td>Less than high school diploma</td>\n",
       "      <td>NaN</td>\n",
       "      <td>NaN</td>\n",
       "      <td>NaN</td>\n",
       "      <td>NaN</td>\n",
       "      <td>NaN</td>\n",
       "      <td>NaN</td>\n",
       "      <td>NaN</td>\n",
       "      <td>NaN</td>\n",
       "      <td>English</td>\n",
       "      <td></td>\n",
       "      <td></td>\n",
       "      <td></td>\n",
       "    </tr>\n",
       "    <tr>\n",
       "      <th>253</th>\n",
       "      <td>254</td>\n",
       "      <td>35.0</td>\n",
       "      <td>$175,000- $199,999</td>\n",
       "      <td>Undergraduate degree</td>\n",
       "      <td>9.0</td>\n",
       "      <td>NaN</td>\n",
       "      <td>NaN</td>\n",
       "      <td>NaN</td>\n",
       "      <td>NaN</td>\n",
       "      <td>NaN</td>\n",
       "      <td>NaN</td>\n",
       "      <td>NaN</td>\n",
       "      <td>English</td>\n",
       "      <td>17</td>\n",
       "      <td>28</td>\n",
       "      <td>90</td>\n",
       "    </tr>\n",
       "    <tr>\n",
       "      <th>3134</th>\n",
       "      <td>3135</td>\n",
       "      <td>23.9</td>\n",
       "      <td>$100,000 -$124,999</td>\n",
       "      <td>College/trade school</td>\n",
       "      <td>9.0</td>\n",
       "      <td>20.0</td>\n",
       "      <td>28.71</td>\n",
       "      <td>Dec2020</td>\n",
       "      <td>35.56</td>\n",
       "      <td>998.0</td>\n",
       "      <td>Caesarean-section (c-section)</td>\n",
       "      <td>Yes</td>\n",
       "      <td>English</td>\n",
       "      <td>25</td>\n",
       "      <td>75</td>\n",
       "      <td>81</td>\n",
       "    </tr>\n",
       "    <tr>\n",
       "      <th>5499</th>\n",
       "      <td>5500</td>\n",
       "      <td>25.3</td>\n",
       "      <td>$100,000 -$124,999</td>\n",
       "      <td>Undergraduate degree</td>\n",
       "      <td>12.0</td>\n",
       "      <td>26.0</td>\n",
       "      <td>38.71</td>\n",
       "      <td>May2020</td>\n",
       "      <td>50.80</td>\n",
       "      <td>3544.0</td>\n",
       "      <td>Vaginally</td>\n",
       "      <td>No</td>\n",
       "      <td>English</td>\n",
       "      <td>51</td>\n",
       "      <td>92</td>\n",
       "      <td>93</td>\n",
       "    </tr>\n",
       "  </tbody>\n",
       "</table>\n",
       "</div>"
      ],
      "text/plain": [
       "      OSF_ID  Maternal_Age     Household_Income  \\\n",
       "7420    7421          31.5  $150,000 - $174,999   \n",
       "3233    3234          35.6            $200,000+   \n",
       "50        51           NaN                  NaN   \n",
       "6734    6735          23.8   Less than $20, 000   \n",
       "253      254          35.0   $175,000- $199,999   \n",
       "3134    3135          23.9   $100,000 -$124,999   \n",
       "5499    5500          25.3   $100,000 -$124,999   \n",
       "\n",
       "                 Maternal_Education  Edinburgh_Postnatal_Depression_Scale  \\\n",
       "7420           College/trade school                                  17.0   \n",
       "3233           Undergraduate degree                                  10.0   \n",
       "50                              NaN                                   3.0   \n",
       "6734  Less than high school diploma                                   NaN   \n",
       "253            Undergraduate degree                                   9.0   \n",
       "3134           College/trade school                                   9.0   \n",
       "5499           Undergraduate degree                                  12.0   \n",
       "\n",
       "      PROMIS_Anxiety  Gestational_Age_At_Birth  \\\n",
       "7420            26.0                       NaN   \n",
       "3233            19.0                     34.00   \n",
       "50               8.0                     39.00   \n",
       "6734             NaN                       NaN   \n",
       "253              NaN                       NaN   \n",
       "3134            20.0                     28.71   \n",
       "5499            26.0                     38.71   \n",
       "\n",
       "     Delivery_Date(converted to month and year)  Birth_Length  Birth_Weight  \\\n",
       "7420                                        NaN           NaN           NaN   \n",
       "3233                                    Sep2020         48.00        2520.0   \n",
       "50                                      Sep2020           NaN           NaN   \n",
       "6734                                        NaN           NaN           NaN   \n",
       "253                                         NaN           NaN           NaN   \n",
       "3134                                    Dec2020         35.56         998.0   \n",
       "5499                                    May2020         50.80        3544.0   \n",
       "\n",
       "                      Delivery_Mode NICU_Stay Language Threaten_Life  \\\n",
       "7420                            NaN       NaN  English            54   \n",
       "3233                      Vaginally       Yes  English            64   \n",
       "50                              NaN       NaN  English             0   \n",
       "6734                            NaN       NaN  English                 \n",
       "253                             NaN       NaN  English            17   \n",
       "3134  Caesarean-section (c-section)       Yes  English            25   \n",
       "5499                      Vaginally        No  English            51   \n",
       "\n",
       "     Threaten_Baby_Danger Threaten_Baby_Harm  \n",
       "7420                   96                 95  \n",
       "3233                   46                 74  \n",
       "50                     50                 24  \n",
       "6734                                          \n",
       "253                    28                 90  \n",
       "3134                   75                 81  \n",
       "5499                   92                 93  "
      ]
     },
     "execution_count": 6,
     "metadata": {},
     "output_type": "execute_result"
    }
   ],
   "source": [
    "df.sample(7)"
   ]
  },
  {
   "cell_type": "code",
   "execution_count": 7,
   "id": "40d12d5e-08aa-438e-85aa-ab03512cb4ea",
   "metadata": {},
   "outputs": [
    {
     "name": "stdout",
     "output_type": "stream",
     "text": [
      "<class 'pandas.core.frame.DataFrame'>\n",
      "RangeIndex: 10772 entries, 0 to 10771\n",
      "Data columns (total 16 columns):\n",
      " #   Column                                      Non-Null Count  Dtype  \n",
      "---  ------                                      --------------  -----  \n",
      " 0   OSF_ID                                      10772 non-null  int64  \n",
      " 1   Maternal_Age                                10661 non-null  float64\n",
      " 2   Household_Income                            10521 non-null  object \n",
      " 3   Maternal_Education                          10595 non-null  object \n",
      " 4   Edinburgh_Postnatal_Depression_Scale        9598 non-null   float64\n",
      " 5   PROMIS_Anxiety                              9566 non-null   float64\n",
      " 6   Gestational_Age_At_Birth                    6734 non-null   float64\n",
      " 7   Delivery_Date(converted to month and year)  6733 non-null   object \n",
      " 8   Birth_Length                                5480 non-null   float64\n",
      " 9   Birth_Weight                                6078 non-null   float64\n",
      " 10  Delivery_Mode                               5537 non-null   object \n",
      " 11  NICU_Stay                                   5534 non-null   object \n",
      " 12  Language                                    10772 non-null  object \n",
      " 13  Threaten_Life                               10772 non-null  object \n",
      " 14  Threaten_Baby_Danger                        10772 non-null  object \n",
      " 15  Threaten_Baby_Harm                          10772 non-null  object \n",
      "dtypes: float64(6), int64(1), object(9)\n",
      "memory usage: 1.3+ MB\n"
     ]
    }
   ],
   "source": [
    "df.info()"
   ]
  },
  {
   "cell_type": "code",
   "execution_count": 8,
   "id": "35fc25eb-ee1b-4e53-9904-434fedb3680a",
   "metadata": {},
   "outputs": [
    {
     "data": {
      "text/plain": [
       "OSF_ID                                           0\n",
       "Maternal_Age                                   111\n",
       "Household_Income                               251\n",
       "Maternal_Education                             177\n",
       "Edinburgh_Postnatal_Depression_Scale          1174\n",
       "PROMIS_Anxiety                                1206\n",
       "Gestational_Age_At_Birth                      4038\n",
       "Delivery_Date(converted to month and year)    4039\n",
       "Birth_Length                                  5292\n",
       "Birth_Weight                                  4694\n",
       "Delivery_Mode                                 5235\n",
       "NICU_Stay                                     5238\n",
       "Language                                         0\n",
       "Threaten_Life                                    0\n",
       "Threaten_Baby_Danger                             0\n",
       "Threaten_Baby_Harm                               0\n",
       "dtype: int64"
      ]
     },
     "execution_count": 8,
     "metadata": {},
     "output_type": "execute_result"
    }
   ],
   "source": [
    "df.isnull().sum()"
   ]
  },
  {
   "cell_type": "code",
   "execution_count": 10,
   "id": "aac06aa5-e893-4cc9-964a-ea6350126a30",
   "metadata": {},
   "outputs": [
    {
     "data": {
      "text/html": [
       "<div>\n",
       "<style scoped>\n",
       "    .dataframe tbody tr th:only-of-type {\n",
       "        vertical-align: middle;\n",
       "    }\n",
       "\n",
       "    .dataframe tbody tr th {\n",
       "        vertical-align: top;\n",
       "    }\n",
       "\n",
       "    .dataframe thead th {\n",
       "        text-align: right;\n",
       "    }\n",
       "</style>\n",
       "<table border=\"1\" class=\"dataframe\">\n",
       "  <thead>\n",
       "    <tr style=\"text-align: right;\">\n",
       "      <th></th>\n",
       "      <th>OSF_ID</th>\n",
       "      <th>Maternal_Age</th>\n",
       "      <th>Edinburgh_Postnatal_Depression_Scale</th>\n",
       "      <th>PROMIS_Anxiety</th>\n",
       "      <th>Gestational_Age_At_Birth</th>\n",
       "      <th>Birth_Length</th>\n",
       "      <th>Birth_Weight</th>\n",
       "    </tr>\n",
       "  </thead>\n",
       "  <tbody>\n",
       "    <tr>\n",
       "      <th>count</th>\n",
       "      <td>10772.000000</td>\n",
       "      <td>10661.000000</td>\n",
       "      <td>9598.000000</td>\n",
       "      <td>9566.000000</td>\n",
       "      <td>6734.000000</td>\n",
       "      <td>5480.000000</td>\n",
       "      <td>6078.000000</td>\n",
       "    </tr>\n",
       "    <tr>\n",
       "      <th>mean</th>\n",
       "      <td>5386.500000</td>\n",
       "      <td>31.844602</td>\n",
       "      <td>10.194832</td>\n",
       "      <td>18.677713</td>\n",
       "      <td>39.342241</td>\n",
       "      <td>50.502504</td>\n",
       "      <td>3412.175058</td>\n",
       "    </tr>\n",
       "    <tr>\n",
       "      <th>std</th>\n",
       "      <td>3109.752884</td>\n",
       "      <td>4.422368</td>\n",
       "      <td>5.505230</td>\n",
       "      <td>6.084313</td>\n",
       "      <td>1.612483</td>\n",
       "      <td>4.445347</td>\n",
       "      <td>538.695046</td>\n",
       "    </tr>\n",
       "    <tr>\n",
       "      <th>min</th>\n",
       "      <td>1.000000</td>\n",
       "      <td>17.000000</td>\n",
       "      <td>0.000000</td>\n",
       "      <td>7.000000</td>\n",
       "      <td>24.860000</td>\n",
       "      <td>20.000000</td>\n",
       "      <td>303.000000</td>\n",
       "    </tr>\n",
       "    <tr>\n",
       "      <th>25%</th>\n",
       "      <td>2693.750000</td>\n",
       "      <td>28.900000</td>\n",
       "      <td>6.000000</td>\n",
       "      <td>14.000000</td>\n",
       "      <td>38.570000</td>\n",
       "      <td>49.000000</td>\n",
       "      <td>3102.250000</td>\n",
       "    </tr>\n",
       "    <tr>\n",
       "      <th>50%</th>\n",
       "      <td>5386.500000</td>\n",
       "      <td>31.800000</td>\n",
       "      <td>10.000000</td>\n",
       "      <td>19.000000</td>\n",
       "      <td>39.570000</td>\n",
       "      <td>50.800000</td>\n",
       "      <td>3431.000000</td>\n",
       "    </tr>\n",
       "    <tr>\n",
       "      <th>75%</th>\n",
       "      <td>8079.250000</td>\n",
       "      <td>34.800000</td>\n",
       "      <td>14.000000</td>\n",
       "      <td>23.000000</td>\n",
       "      <td>40.430000</td>\n",
       "      <td>53.030000</td>\n",
       "      <td>3742.000000</td>\n",
       "    </tr>\n",
       "    <tr>\n",
       "      <th>max</th>\n",
       "      <td>10772.000000</td>\n",
       "      <td>49.700000</td>\n",
       "      <td>30.000000</td>\n",
       "      <td>35.000000</td>\n",
       "      <td>42.860000</td>\n",
       "      <td>70.000000</td>\n",
       "      <td>5968.000000</td>\n",
       "    </tr>\n",
       "  </tbody>\n",
       "</table>\n",
       "</div>"
      ],
      "text/plain": [
       "             OSF_ID  Maternal_Age  Edinburgh_Postnatal_Depression_Scale  \\\n",
       "count  10772.000000  10661.000000                           9598.000000   \n",
       "mean    5386.500000     31.844602                             10.194832   \n",
       "std     3109.752884      4.422368                              5.505230   \n",
       "min        1.000000     17.000000                              0.000000   \n",
       "25%     2693.750000     28.900000                              6.000000   \n",
       "50%     5386.500000     31.800000                             10.000000   \n",
       "75%     8079.250000     34.800000                             14.000000   \n",
       "max    10772.000000     49.700000                             30.000000   \n",
       "\n",
       "       PROMIS_Anxiety  Gestational_Age_At_Birth  Birth_Length  Birth_Weight  \n",
       "count     9566.000000               6734.000000   5480.000000   6078.000000  \n",
       "mean        18.677713                 39.342241     50.502504   3412.175058  \n",
       "std          6.084313                  1.612483      4.445347    538.695046  \n",
       "min          7.000000                 24.860000     20.000000    303.000000  \n",
       "25%         14.000000                 38.570000     49.000000   3102.250000  \n",
       "50%         19.000000                 39.570000     50.800000   3431.000000  \n",
       "75%         23.000000                 40.430000     53.030000   3742.000000  \n",
       "max         35.000000                 42.860000     70.000000   5968.000000  "
      ]
     },
     "execution_count": 10,
     "metadata": {},
     "output_type": "execute_result"
    }
   ],
   "source": [
    "df.describe()"
   ]
  },
  {
   "cell_type": "code",
   "execution_count": 11,
   "id": "d642f588-c8af-44b4-a291-f3a4ae7e55ac",
   "metadata": {},
   "outputs": [
    {
     "data": {
      "text/html": [
       "<div>\n",
       "<style scoped>\n",
       "    .dataframe tbody tr th:only-of-type {\n",
       "        vertical-align: middle;\n",
       "    }\n",
       "\n",
       "    .dataframe tbody tr th {\n",
       "        vertical-align: top;\n",
       "    }\n",
       "\n",
       "    .dataframe thead th {\n",
       "        text-align: right;\n",
       "    }\n",
       "</style>\n",
       "<table border=\"1\" class=\"dataframe\">\n",
       "  <thead>\n",
       "    <tr style=\"text-align: right;\">\n",
       "      <th></th>\n",
       "      <th>OSF_ID</th>\n",
       "      <th>Maternal_Age</th>\n",
       "      <th>Edinburgh_Postnatal_Depression_Scale</th>\n",
       "      <th>PROMIS_Anxiety</th>\n",
       "      <th>Gestational_Age_At_Birth</th>\n",
       "      <th>Birth_Length</th>\n",
       "      <th>Birth_Weight</th>\n",
       "    </tr>\n",
       "  </thead>\n",
       "  <tbody>\n",
       "    <tr>\n",
       "      <th>OSF_ID</th>\n",
       "      <td>1.000000</td>\n",
       "      <td>-0.003576</td>\n",
       "      <td>0.004164</td>\n",
       "      <td>-0.001317</td>\n",
       "      <td>0.001572</td>\n",
       "      <td>0.018233</td>\n",
       "      <td>0.001244</td>\n",
       "    </tr>\n",
       "    <tr>\n",
       "      <th>Maternal_Age</th>\n",
       "      <td>-0.003576</td>\n",
       "      <td>1.000000</td>\n",
       "      <td>-0.093311</td>\n",
       "      <td>-0.088083</td>\n",
       "      <td>-0.072787</td>\n",
       "      <td>-0.012068</td>\n",
       "      <td>-0.010192</td>\n",
       "    </tr>\n",
       "    <tr>\n",
       "      <th>Edinburgh_Postnatal_Depression_Scale</th>\n",
       "      <td>0.004164</td>\n",
       "      <td>-0.093311</td>\n",
       "      <td>1.000000</td>\n",
       "      <td>0.806771</td>\n",
       "      <td>-0.066946</td>\n",
       "      <td>-0.071105</td>\n",
       "      <td>-0.035341</td>\n",
       "    </tr>\n",
       "    <tr>\n",
       "      <th>PROMIS_Anxiety</th>\n",
       "      <td>-0.001317</td>\n",
       "      <td>-0.088083</td>\n",
       "      <td>0.806771</td>\n",
       "      <td>1.000000</td>\n",
       "      <td>-0.068976</td>\n",
       "      <td>-0.056172</td>\n",
       "      <td>-0.026858</td>\n",
       "    </tr>\n",
       "    <tr>\n",
       "      <th>Gestational_Age_At_Birth</th>\n",
       "      <td>0.001572</td>\n",
       "      <td>-0.072787</td>\n",
       "      <td>-0.066946</td>\n",
       "      <td>-0.068976</td>\n",
       "      <td>1.000000</td>\n",
       "      <td>0.356058</td>\n",
       "      <td>0.560204</td>\n",
       "    </tr>\n",
       "    <tr>\n",
       "      <th>Birth_Length</th>\n",
       "      <td>0.018233</td>\n",
       "      <td>-0.012068</td>\n",
       "      <td>-0.071105</td>\n",
       "      <td>-0.056172</td>\n",
       "      <td>0.356058</td>\n",
       "      <td>1.000000</td>\n",
       "      <td>0.470002</td>\n",
       "    </tr>\n",
       "    <tr>\n",
       "      <th>Birth_Weight</th>\n",
       "      <td>0.001244</td>\n",
       "      <td>-0.010192</td>\n",
       "      <td>-0.035341</td>\n",
       "      <td>-0.026858</td>\n",
       "      <td>0.560204</td>\n",
       "      <td>0.470002</td>\n",
       "      <td>1.000000</td>\n",
       "    </tr>\n",
       "  </tbody>\n",
       "</table>\n",
       "</div>"
      ],
      "text/plain": [
       "                                        OSF_ID  Maternal_Age  \\\n",
       "OSF_ID                                1.000000     -0.003576   \n",
       "Maternal_Age                         -0.003576      1.000000   \n",
       "Edinburgh_Postnatal_Depression_Scale  0.004164     -0.093311   \n",
       "PROMIS_Anxiety                       -0.001317     -0.088083   \n",
       "Gestational_Age_At_Birth              0.001572     -0.072787   \n",
       "Birth_Length                          0.018233     -0.012068   \n",
       "Birth_Weight                          0.001244     -0.010192   \n",
       "\n",
       "                                      Edinburgh_Postnatal_Depression_Scale  \\\n",
       "OSF_ID                                                            0.004164   \n",
       "Maternal_Age                                                     -0.093311   \n",
       "Edinburgh_Postnatal_Depression_Scale                              1.000000   \n",
       "PROMIS_Anxiety                                                    0.806771   \n",
       "Gestational_Age_At_Birth                                         -0.066946   \n",
       "Birth_Length                                                     -0.071105   \n",
       "Birth_Weight                                                     -0.035341   \n",
       "\n",
       "                                      PROMIS_Anxiety  \\\n",
       "OSF_ID                                     -0.001317   \n",
       "Maternal_Age                               -0.088083   \n",
       "Edinburgh_Postnatal_Depression_Scale        0.806771   \n",
       "PROMIS_Anxiety                              1.000000   \n",
       "Gestational_Age_At_Birth                   -0.068976   \n",
       "Birth_Length                               -0.056172   \n",
       "Birth_Weight                               -0.026858   \n",
       "\n",
       "                                      Gestational_Age_At_Birth  Birth_Length  \\\n",
       "OSF_ID                                                0.001572      0.018233   \n",
       "Maternal_Age                                         -0.072787     -0.012068   \n",
       "Edinburgh_Postnatal_Depression_Scale                 -0.066946     -0.071105   \n",
       "PROMIS_Anxiety                                       -0.068976     -0.056172   \n",
       "Gestational_Age_At_Birth                              1.000000      0.356058   \n",
       "Birth_Length                                          0.356058      1.000000   \n",
       "Birth_Weight                                          0.560204      0.470002   \n",
       "\n",
       "                                      Birth_Weight  \n",
       "OSF_ID                                    0.001244  \n",
       "Maternal_Age                             -0.010192  \n",
       "Edinburgh_Postnatal_Depression_Scale     -0.035341  \n",
       "PROMIS_Anxiety                           -0.026858  \n",
       "Gestational_Age_At_Birth                  0.560204  \n",
       "Birth_Length                              0.470002  \n",
       "Birth_Weight                              1.000000  "
      ]
     },
     "execution_count": 11,
     "metadata": {},
     "output_type": "execute_result"
    }
   ],
   "source": [
    "df.corr()"
   ]
  },
  {
   "cell_type": "code",
   "execution_count": 13,
   "id": "58a04d6a-0294-4f82-b2e8-44564c860b02",
   "metadata": {},
   "outputs": [
    {
     "data": {
      "text/plain": [
       "0"
      ]
     },
     "execution_count": 13,
     "metadata": {},
     "output_type": "execute_result"
    }
   ],
   "source": [
    "df.duplicated().sum()"
   ]
  },
  {
   "cell_type": "markdown",
   "id": "2db45cd9-d94e-4fde-864d-2dd487681f9b",
   "metadata": {},
   "source": [
    "## Univariate Analysis on Categorical Data"
   ]
  },
  {
   "cell_type": "code",
   "execution_count": 16,
   "id": "00172e37-14f9-4c3e-a6d2-0a90be2a2323",
   "metadata": {},
   "outputs": [
    {
     "name": "stderr",
     "output_type": "stream",
     "text": [
      "C:\\Users\\HP\\anaconda3\\lib\\site-packages\\seaborn\\_decorators.py:36: FutureWarning: Pass the following variable as a keyword arg: x. From version 0.12, the only valid positional argument will be `data`, and passing other arguments without an explicit keyword will result in an error or misinterpretation.\n",
      "  warnings.warn(\n"
     ]
    },
    {
     "data": {
      "text/plain": [
       "<AxesSubplot:xlabel='Delivery_Mode', ylabel='count'>"
      ]
     },
     "execution_count": 16,
     "metadata": {},
     "output_type": "execute_result"
    },
    {
     "data": {
      "image/png": "[encoded data removed]",
      "text/plain": [
       "<Figure size 640x480 with 1 Axes>"
      ]
     },
     "metadata": {},
     "output_type": "display_data"
    }
   ],
   "source": [
    "sns.countplot(df['Delivery_Mode'])"
   ]
  },
  {
   "cell_type": "code",
   "execution_count": 18,
   "id": "ae0bc965-9665-4d60-8534-8b8b845aedb8",
   "metadata": {},
   "outputs": [
    {
     "data": {
      "text/plain": [
       "<AxesSubplot:ylabel='Delivery_Mode'>"
      ]
     },
     "execution_count": 18,
     "metadata": {},
     "output_type": "execute_result"
    },
    {
     "data": {
      "image/png": "[encoded data removed]",
      "text/plain": [
       "<Figure size 640x480 with 1 Axes>"
      ]
     },
     "metadata": {},
     "output_type": "display_data"
    }
   ],
   "source": [
    "df['Delivery_Mode'].value_counts().plot(kind='pie',autopct='%0.2f')"
   ]
  },
  {
   "cell_type": "code",
   "execution_count": 19,
   "id": "708f6cd7-d608-43d2-8601-1958107e07e9",
   "metadata": {},
   "outputs": [
    {
     "data": {
      "text/html": [
       "<div>\n",
       "<style scoped>\n",
       "    .dataframe tbody tr th:only-of-type {\n",
       "        vertical-align: middle;\n",
       "    }\n",
       "\n",
       "    .dataframe tbody tr th {\n",
       "        vertical-align: top;\n",
       "    }\n",
       "\n",
       "    .dataframe thead th {\n",
       "        text-align: right;\n",
       "    }\n",
       "</style>\n",
       "<table border=\"1\" class=\"dataframe\">\n",
       "  <thead>\n",
       "    <tr style=\"text-align: right;\">\n",
       "      <th></th>\n",
       "      <th>OSF_ID</th>\n",
       "      <th>Maternal_Age</th>\n",
       "      <th>Household_Income</th>\n",
       "      <th>Maternal_Education</th>\n",
       "      <th>Edinburgh_Postnatal_Depression_Scale</th>\n",
       "      <th>PROMIS_Anxiety</th>\n",
       "      <th>Gestational_Age_At_Birth</th>\n",
       "      <th>Delivery_Date(converted to month and year)</th>\n",
       "      <th>Birth_Length</th>\n",
       "      <th>Birth_Weight</th>\n",
       "      <th>Delivery_Mode</th>\n",
       "      <th>NICU_Stay</th>\n",
       "      <th>Language</th>\n",
       "      <th>Threaten_Life</th>\n",
       "      <th>Threaten_Baby_Danger</th>\n",
       "      <th>Threaten_Baby_Harm</th>\n",
       "    </tr>\n",
       "  </thead>\n",
       "  <tbody>\n",
       "    <tr>\n",
       "      <th>0</th>\n",
       "      <td>1</td>\n",
       "      <td>38.3</td>\n",
       "      <td>$200,000+</td>\n",
       "      <td>Masters degree</td>\n",
       "      <td>9.0</td>\n",
       "      <td>13.0</td>\n",
       "      <td>39.71</td>\n",
       "      <td>Dec2020</td>\n",
       "      <td>49.20</td>\n",
       "      <td>3431.0</td>\n",
       "      <td>Vaginally</td>\n",
       "      <td>No</td>\n",
       "      <td>English</td>\n",
       "      <td>2</td>\n",
       "      <td>3</td>\n",
       "      <td>27</td>\n",
       "    </tr>\n",
       "    <tr>\n",
       "      <th>1</th>\n",
       "      <td>2</td>\n",
       "      <td>34.6</td>\n",
       "      <td>$200,000+</td>\n",
       "      <td>Undergraduate degree</td>\n",
       "      <td>4.0</td>\n",
       "      <td>17.0</td>\n",
       "      <td>NaN</td>\n",
       "      <td>NaN</td>\n",
       "      <td>NaN</td>\n",
       "      <td>NaN</td>\n",
       "      <td>NaN</td>\n",
       "      <td>NaN</td>\n",
       "      <td>English</td>\n",
       "      <td>2</td>\n",
       "      <td>33</td>\n",
       "      <td>92</td>\n",
       "    </tr>\n",
       "    <tr>\n",
       "      <th>2</th>\n",
       "      <td>3</td>\n",
       "      <td>34.3</td>\n",
       "      <td>$100,000 -$124,999</td>\n",
       "      <td>Undergraduate degree</td>\n",
       "      <td>NaN</td>\n",
       "      <td>NaN</td>\n",
       "      <td>NaN</td>\n",
       "      <td>NaN</td>\n",
       "      <td>NaN</td>\n",
       "      <td>NaN</td>\n",
       "      <td>NaN</td>\n",
       "      <td>NaN</td>\n",
       "      <td>French</td>\n",
       "      <td></td>\n",
       "      <td></td>\n",
       "      <td></td>\n",
       "    </tr>\n",
       "    <tr>\n",
       "      <th>3</th>\n",
       "      <td>4</td>\n",
       "      <td>28.8</td>\n",
       "      <td>$100,000 -$124,999</td>\n",
       "      <td>Masters degree</td>\n",
       "      <td>9.0</td>\n",
       "      <td>20.0</td>\n",
       "      <td>38.57</td>\n",
       "      <td>Dec2020</td>\n",
       "      <td>41.00</td>\n",
       "      <td>2534.0</td>\n",
       "      <td>Vaginally</td>\n",
       "      <td>No</td>\n",
       "      <td>French</td>\n",
       "      <td>53</td>\n",
       "      <td>67</td>\n",
       "      <td>54</td>\n",
       "    </tr>\n",
       "    <tr>\n",
       "      <th>4</th>\n",
       "      <td>5</td>\n",
       "      <td>36.5</td>\n",
       "      <td>$40,000-$69,999</td>\n",
       "      <td>Undergraduate degree</td>\n",
       "      <td>14.0</td>\n",
       "      <td>20.0</td>\n",
       "      <td>39.86</td>\n",
       "      <td>Oct2020</td>\n",
       "      <td>53.34</td>\n",
       "      <td>3714.0</td>\n",
       "      <td>Caesarean-section (c-section)</td>\n",
       "      <td>No</td>\n",
       "      <td>English</td>\n",
       "      <td>23</td>\n",
       "      <td>32</td>\n",
       "      <td>71</td>\n",
       "    </tr>\n",
       "  </tbody>\n",
       "</table>\n",
       "</div>"
      ],
      "text/plain": [
       "   OSF_ID  Maternal_Age    Household_Income    Maternal_Education  \\\n",
       "0       1          38.3           $200,000+        Masters degree   \n",
       "1       2          34.6           $200,000+  Undergraduate degree   \n",
       "2       3          34.3  $100,000 -$124,999  Undergraduate degree   \n",
       "3       4          28.8  $100,000 -$124,999        Masters degree   \n",
       "4       5          36.5     $40,000-$69,999  Undergraduate degree   \n",
       "\n",
       "   Edinburgh_Postnatal_Depression_Scale  PROMIS_Anxiety  \\\n",
       "0                                   9.0            13.0   \n",
       "1                                   4.0            17.0   \n",
       "2                                   NaN             NaN   \n",
       "3                                   9.0            20.0   \n",
       "4                                  14.0            20.0   \n",
       "\n",
       "   Gestational_Age_At_Birth Delivery_Date(converted to month and year)  \\\n",
       "0                     39.71                                    Dec2020   \n",
       "1                       NaN                                        NaN   \n",
       "2                       NaN                                        NaN   \n",
       "3                     38.57                                    Dec2020   \n",
       "4                     39.86                                    Oct2020   \n",
       "\n",
       "   Birth_Length  Birth_Weight                  Delivery_Mode NICU_Stay  \\\n",
       "0         49.20        3431.0                      Vaginally        No   \n",
       "1           NaN           NaN                            NaN       NaN   \n",
       "2           NaN           NaN                            NaN       NaN   \n",
       "3         41.00        2534.0                      Vaginally        No   \n",
       "4         53.34        3714.0  Caesarean-section (c-section)        No   \n",
       "\n",
       "  Language Threaten_Life Threaten_Baby_Danger Threaten_Baby_Harm  \n",
       "0  English             2                    3                 27  \n",
       "1  English             2                   33                 92  \n",
       "2   French                                                        \n",
       "3   French            53                   67                 54  \n",
       "4  English            23                   32                 71  "
      ]
     },
     "execution_count": 19,
     "metadata": {},
     "output_type": "execute_result"
    }
   ],
   "source": [
    "df.head()"
   ]
  },
  {
   "cell_type": "markdown",
   "id": "5fbff377-8ef0-475b-bcc9-29cf6c631742",
   "metadata": {},
   "source": [
    "## Numerical data"
   ]
  },
  {
   "cell_type": "code",
   "execution_count": 20,
   "id": "6bbf01fd-86ef-4635-9343-de8cd909a20f",
   "metadata": {},
   "outputs": [
    {
     "data": {
      "text/html": [
       "<div>\n",
       "<style scoped>\n",
       "    .dataframe tbody tr th:only-of-type {\n",
       "        vertical-align: middle;\n",
       "    }\n",
       "\n",
       "    .dataframe tbody tr th {\n",
       "        vertical-align: top;\n",
       "    }\n",
       "\n",
       "    .dataframe thead th {\n",
       "        text-align: right;\n",
       "    }\n",
       "</style>\n",
       "<table border=\"1\" class=\"dataframe\">\n",
       "  <thead>\n",
       "    <tr style=\"text-align: right;\">\n",
       "      <th></th>\n",
       "      <th>OSF_ID</th>\n",
       "      <th>Maternal_Age</th>\n",
       "      <th>Edinburgh_Postnatal_Depression_Scale</th>\n",
       "      <th>PROMIS_Anxiety</th>\n",
       "      <th>Gestational_Age_At_Birth</th>\n",
       "      <th>Birth_Length</th>\n",
       "      <th>Birth_Weight</th>\n",
       "    </tr>\n",
       "  </thead>\n",
       "  <tbody>\n",
       "    <tr>\n",
       "      <th>OSF_ID</th>\n",
       "      <td>1.000000</td>\n",
       "      <td>-0.003576</td>\n",
       "      <td>0.004164</td>\n",
       "      <td>-0.001317</td>\n",
       "      <td>0.001572</td>\n",
       "      <td>0.018233</td>\n",
       "      <td>0.001244</td>\n",
       "    </tr>\n",
       "    <tr>\n",
       "      <th>Maternal_Age</th>\n",
       "      <td>-0.003576</td>\n",
       "      <td>1.000000</td>\n",
       "      <td>-0.093311</td>\n",
       "      <td>-0.088083</td>\n",
       "      <td>-0.072787</td>\n",
       "      <td>-0.012068</td>\n",
       "      <td>-0.010192</td>\n",
       "    </tr>\n",
       "    <tr>\n",
       "      <th>Edinburgh_Postnatal_Depression_Scale</th>\n",
       "      <td>0.004164</td>\n",
       "      <td>-0.093311</td>\n",
       "      <td>1.000000</td>\n",
       "      <td>0.806771</td>\n",
       "      <td>-0.066946</td>\n",
       "      <td>-0.071105</td>\n",
       "      <td>-0.035341</td>\n",
       "    </tr>\n",
       "    <tr>\n",
       "      <th>PROMIS_Anxiety</th>\n",
       "      <td>-0.001317</td>\n",
       "      <td>-0.088083</td>\n",
       "      <td>0.806771</td>\n",
       "      <td>1.000000</td>\n",
       "      <td>-0.068976</td>\n",
       "      <td>-0.056172</td>\n",
       "      <td>-0.026858</td>\n",
       "    </tr>\n",
       "    <tr>\n",
       "      <th>Gestational_Age_At_Birth</th>\n",
       "      <td>0.001572</td>\n",
       "      <td>-0.072787</td>\n",
       "      <td>-0.066946</td>\n",
       "      <td>-0.068976</td>\n",
       "      <td>1.000000</td>\n",
       "      <td>0.356058</td>\n",
       "      <td>0.560204</td>\n",
       "    </tr>\n",
       "    <tr>\n",
       "      <th>Birth_Length</th>\n",
       "      <td>0.018233</td>\n",
       "      <td>-0.012068</td>\n",
       "      <td>-0.071105</td>\n",
       "      <td>-0.056172</td>\n",
       "      <td>0.356058</td>\n",
       "      <td>1.000000</td>\n",
       "      <td>0.470002</td>\n",
       "    </tr>\n",
       "    <tr>\n",
       "      <th>Birth_Weight</th>\n",
       "      <td>0.001244</td>\n",
       "      <td>-0.010192</td>\n",
       "      <td>-0.035341</td>\n",
       "      <td>-0.026858</td>\n",
       "      <td>0.560204</td>\n",
       "      <td>0.470002</td>\n",
       "      <td>1.000000</td>\n",
       "    </tr>\n",
       "  </tbody>\n",
       "</table>\n",
       "</div>"
      ],
      "text/plain": [
       "                                        OSF_ID  Maternal_Age  \\\n",
       "OSF_ID                                1.000000     -0.003576   \n",
       "Maternal_Age                         -0.003576      1.000000   \n",
       "Edinburgh_Postnatal_Depression_Scale  0.004164     -0.093311   \n",
       "PROMIS_Anxiety                       -0.001317     -0.088083   \n",
       "Gestational_Age_At_Birth              0.001572     -0.072787   \n",
       "Birth_Length                          0.018233     -0.012068   \n",
       "Birth_Weight                          0.001244     -0.010192   \n",
       "\n",
       "                                      Edinburgh_Postnatal_Depression_Scale  \\\n",
       "OSF_ID                                                            0.004164   \n",
       "Maternal_Age                                                     -0.093311   \n",
       "Edinburgh_Postnatal_Depression_Scale                              1.000000   \n",
       "PROMIS_Anxiety                                                    0.806771   \n",
       "Gestational_Age_At_Birth                                         -0.066946   \n",
       "Birth_Length                                                     -0.071105   \n",
       "Birth_Weight                                                     -0.035341   \n",
       "\n",
       "                                      PROMIS_Anxiety  \\\n",
       "OSF_ID                                     -0.001317   \n",
       "Maternal_Age                               -0.088083   \n",
       "Edinburgh_Postnatal_Depression_Scale        0.806771   \n",
       "PROMIS_Anxiety                              1.000000   \n",
       "Gestational_Age_At_Birth                   -0.068976   \n",
       "Birth_Length                               -0.056172   \n",
       "Birth_Weight                               -0.026858   \n",
       "\n",
       "                                      Gestational_Age_At_Birth  Birth_Length  \\\n",
       "OSF_ID                                                0.001572      0.018233   \n",
       "Maternal_Age                                         -0.072787     -0.012068   \n",
       "Edinburgh_Postnatal_Depression_Scale                 -0.066946     -0.071105   \n",
       "PROMIS_Anxiety                                       -0.068976     -0.056172   \n",
       "Gestational_Age_At_Birth                              1.000000      0.356058   \n",
       "Birth_Length                                          0.356058      1.000000   \n",
       "Birth_Weight                                          0.560204      0.470002   \n",
       "\n",
       "                                      Birth_Weight  \n",
       "OSF_ID                                    0.001244  \n",
       "Maternal_Age                             -0.010192  \n",
       "Edinburgh_Postnatal_Depression_Scale     -0.035341  \n",
       "PROMIS_Anxiety                           -0.026858  \n",
       "Gestational_Age_At_Birth                  0.560204  \n",
       "Birth_Length                              0.470002  \n",
       "Birth_Weight                              1.000000  "
      ]
     },
     "execution_count": 20,
     "metadata": {},
     "output_type": "execute_result"
    }
   ],
   "source": [
    "df.corr()"
   ]
  },
  {
   "cell_type": "code",
   "execution_count": 21,
   "id": "df55d715-c0d3-436d-9256-d978ddd320cc",
   "metadata": {},
   "outputs": [
    {
     "data": {
      "text/plain": [
       "(array([ 710., 1092., 1282., 1425., 1260., 1549., 1240.,  729.,  189.,\n",
       "          90.]),\n",
       " array([ 7. ,  9.8, 12.6, 15.4, 18.2, 21. , 23.8, 26.6, 29.4, 32.2, 35. ]),\n",
       " <BarContainer object of 10 artists>)"
      ]
     },
     "execution_count": 21,
     "metadata": {},
     "output_type": "execute_result"
    },
    {
     "data": {
      "image/png": "[encoded data removed]",
      "text/plain": [
       "<Figure size 640x480 with 1 Axes>"
      ]
     },
     "metadata": {},
     "output_type": "display_data"
    }
   ],
   "source": [
    "plt.hist(df['PROMIS_Anxiety'])"
   ]
  },
  {
   "cell_type": "code",
   "execution_count": 22,
   "id": "d37cfd04-995d-419e-b2f6-2c82d016fe9e",
   "metadata": {},
   "outputs": [
    {
     "data": {
      "text/plain": [
       "(array([3.000e+00, 7.000e+00, 1.200e+01, 1.400e+01, 3.400e+01, 9.300e+01,\n",
       "        4.760e+02, 2.160e+03, 3.237e+03, 6.980e+02]),\n",
       " array([24.86, 26.66, 28.46, 30.26, 32.06, 33.86, 35.66, 37.46, 39.26,\n",
       "        41.06, 42.86]),\n",
       " <BarContainer object of 10 artists>)"
      ]
     },
     "execution_count": 22,
     "metadata": {},
     "output_type": "execute_result"
    },
    {
     "data": {
      "image/png": "[encoded data removed]",
      "text/plain": [
       "<Figure size 640x480 with 1 Axes>"
      ]
     },
     "metadata": {},
     "output_type": "display_data"
    }
   ],
   "source": [
    "plt.hist(df['Gestational_Age_At_Birth'])"
   ]
  },
  {
   "cell_type": "code",
   "execution_count": 23,
   "id": "b1538430-eaa6-46eb-ba15-d452992e6238",
   "metadata": {},
   "outputs": [
    {
     "name": "stderr",
     "output_type": "stream",
     "text": [
      "C:\\Users\\HP\\anaconda3\\lib\\site-packages\\seaborn\\distributions.py:2619: FutureWarning: `distplot` is a deprecated function and will be removed in a future version. Please adapt your code to use either `displot` (a figure-level function with similar flexibility) or `histplot` (an axes-level function for histograms).\n",
      "  warnings.warn(msg, FutureWarning)\n"
     ]
    },
    {
     "data": {
      "text/plain": [
       "<AxesSubplot:xlabel='Edinburgh_Postnatal_Depression_Scale', ylabel='Density'>"
      ]
     },
     "execution_count": 23,
     "metadata": {},
     "output_type": "execute_result"
    },
    {
     "data": {
      "image/png": "[encoded data removed]",
      "text/plain": [
       "<Figure size 640x480 with 1 Axes>"
      ]
     },
     "metadata": {},
     "output_type": "display_data"
    }
   ],
   "source": [
    "sns.distplot(df['Edinburgh_Postnatal_Depression_Scale'])"
   ]
  },
  {
   "cell_type": "code",
   "execution_count": 24,
   "id": "3566240d-edf5-406f-8ffd-4fd4b535d2d8",
   "metadata": {},
   "outputs": [
    {
     "name": "stderr",
     "output_type": "stream",
     "text": [
      "C:\\Users\\HP\\anaconda3\\lib\\site-packages\\seaborn\\_decorators.py:36: FutureWarning: Pass the following variable as a keyword arg: x. From version 0.12, the only valid positional argument will be `data`, and passing other arguments without an explicit keyword will result in an error or misinterpretation.\n",
      "  warnings.warn(\n"
     ]
    },
    {
     "data": {
      "text/plain": [
       "<AxesSubplot:xlabel='Maternal_Age'>"
      ]
     },
     "execution_count": 24,
     "metadata": {},
     "output_type": "execute_result"
    },
    {
     "data": {
      "image/png": "[encoded data removed]",
      "text/plain": [
       "<Figure size 640x480 with 1 Axes>"
      ]
     },
     "metadata": {},
     "output_type": "display_data"
    }
   ],
   "source": [
    "sns.boxplot(df['Maternal_Age'])"
   ]
  },
  {
   "cell_type": "code",
   "execution_count": 25,
   "id": "b796c5c1-4042-4e57-a63a-a2d01afce0d3",
   "metadata": {},
   "outputs": [
    {
     "data": {
      "text/plain": [
       "31.84460181971569"
      ]
     },
     "execution_count": 25,
     "metadata": {},
     "output_type": "execute_result"
    }
   ],
   "source": [
    "df['Maternal_Age'].mean()"
   ]
  },
  {
   "cell_type": "code",
   "execution_count": 26,
   "id": "6fc7f443-2172-4a9d-8e21-0604d95c741c",
   "metadata": {},
   "outputs": [
    {
     "data": {
      "text/plain": [
       "-0.5866997341787286"
      ]
     },
     "execution_count": 26,
     "metadata": {},
     "output_type": "execute_result"
    }
   ],
   "source": [
    "df['Birth_Weight'].skew()"
   ]
  },
  {
   "cell_type": "code",
   "execution_count": null,
   "id": "72ab923d-e843-464a-a48b-c10a2dce938b",
   "metadata": {},
   "outputs": [],
   "source": []
  }
 ],
 "metadata": {
  "kernelspec": {
   "display_name": "Python 3 (ipykernel)",
   "language": "python",
   "name": "python3"
  },
  "language_info": {
   "codemirror_mode": {
    "name": "ipython",
    "version": 3
   },
   "file_extension": ".py",
   "mimetype": "text/x-python",
   "name": "python",
   "nbconvert_exporter": "python",
   "pygments_lexer": "ipython3",
   "version": "3.9.13"
  }
 },
 "nbformat": 4,
 "nbformat_minor": 5
}
